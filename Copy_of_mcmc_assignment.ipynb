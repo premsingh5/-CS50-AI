{
  "nbformat": 4,
  "nbformat_minor": 0,
  "metadata": {
    "kernelspec": {
      "display_name": "Python 3",
      "language": "python",
      "name": "python3"
    },
    "language_info": {
      "codemirror_mode": {
        "name": "ipython",
        "version": 3
      },
      "file_extension": ".py",
      "mimetype": "text/x-python",
      "name": "python",
      "nbconvert_exporter": "python",
      "pygments_lexer": "ipython3",
      "version": "3.6.7"
    },
    "colab": {
      "name": "Copy of mcmc_assignment.ipynb",
      "provenance": [],
      "toc_visible": true,
      "include_colab_link": true
    }
  },
  "cells": [
    {
      "cell_type": "markdown",
      "metadata": {
        "id": "view-in-github",
        "colab_type": "text"
      },
      "source": [
        "<a href=\"https://colab.research.google.com/github/premsingh5/-CS50-AI/blob/master/Copy_of_mcmc_assignment.ipynb\" target=\"_parent\"><img src=\"https://colab.research.google.com/assets/colab-badge.svg\" alt=\"Open In Colab\"/></a>"
      ]
    },
    {
      "cell_type": "markdown",
      "metadata": {
        "id": "ctrbruvB4cnm"
      },
      "source": [
        "# First things first\n",
        "Click **File -> Save a copy in Drive** and click **Open in new tab** in the pop-up window to save your progress in Google Drive."
      ]
    },
    {
      "cell_type": "markdown",
      "metadata": {
        "id": "UpRl9AjW4cnu"
      },
      "source": [
        "# Using PyMC3"
      ]
    },
    {
      "cell_type": "markdown",
      "metadata": {
        "id": "bFFVq0cy4cnv"
      },
      "source": [
        "In this assignment, we will learn how to use a library for probabilistic programming and inference called <a href=\"http://docs.pymc.io/\">PyMC3</a>."
      ]
    },
    {
      "cell_type": "markdown",
      "metadata": {
        "id": "57REjP3l4cnv"
      },
      "source": [
        "### Setup\n",
        "Loading auxiliary files and importing the necessary libraries."
      ]
    },
    {
      "cell_type": "code",
      "metadata": {
        "id": "YPKfAJbM4cnw",
        "colab": {
          "base_uri": "https://localhost:8080/"
        },
        "outputId": "10ae4f26-aa52-4499-8e1f-e5e8164c7b01"
      },
      "source": [
        "try:\n",
        "    import google.colab\n",
        "    IN_COLAB = True\n",
        "except:\n",
        "    IN_COLAB = False\n",
        "if IN_COLAB:\n",
        "    print(\"Downloading Colab files\")\n",
        "    ! shred -u setup_google_colab.py\n",
        "    ! wget https://raw.githubusercontent.com/hse-aml/bayesian-methods-for-ml/master/setup_google_colab.py -O setup_google_colab.py\n",
        "    import setup_google_colab\n",
        "    setup_google_colab.load_data_week4()"
      ],
      "execution_count": 3,
      "outputs": [
        {
          "output_type": "stream",
          "text": [
            "Downloading Colab files\n",
            "shred: setup_google_colab.py: failed to open for writing: No such file or directory\n",
            "--2021-04-06 16:55:03--  https://raw.githubusercontent.com/hse-aml/bayesian-methods-for-ml/master/setup_google_colab.py\n",
            "Resolving raw.githubusercontent.com (raw.githubusercontent.com)... 185.199.108.133, 185.199.109.133, 185.199.110.133, ...\n",
            "Connecting to raw.githubusercontent.com (raw.githubusercontent.com)|185.199.108.133|:443... connected.\n",
            "HTTP request sent, awaiting response... 200 OK\n",
            "Length: 1232 (1.2K) [text/plain]\n",
            "Saving to: ‘setup_google_colab.py’\n",
            "\n",
            "setup_google_colab. 100%[===================>]   1.20K  --.-KB/s    in 0s      \n",
            "\n",
            "2021-04-06 16:55:04 (37.6 MB/s) - ‘setup_google_colab.py’ saved [1232/1232]\n",
            "\n",
            "https://raw.githubusercontent.com/hse-aml/bayesian-methods-for-ml/master/week4/w4_grader.py w4_grader.py\n",
            "https://raw.githubusercontent.com/hse-aml/bayesian-methods-for-ml/master/week4/adult_us_postprocessed.csv adult_us_postprocessed.csv\n"
          ],
          "name": "stdout"
        }
      ]
    },
    {
      "cell_type": "code",
      "metadata": {
        "id": "w8k69JJe4cnx",
        "colab": {
          "base_uri": "https://localhost:8080/"
        },
        "outputId": "06b54bdb-9b18-4159-eb6e-a1cd83be278d"
      },
      "source": [
        "import numpy as np\n",
        "import pandas as pd\n",
        "import numpy.random as rnd\n",
        "import seaborn as sns\n",
        "from matplotlib import animation\n",
        "import pymc3 as pm\n",
        "from w4_grader import MCMCGrader\n",
        "%pylab inline"
      ],
      "execution_count": 4,
      "outputs": [
        {
          "output_type": "stream",
          "text": [
            "Populating the interactive namespace from numpy and matplotlib\n"
          ],
          "name": "stdout"
        }
      ]
    },
    {
      "cell_type": "markdown",
      "metadata": {
        "id": "C1Mm1WQ14cnx"
      },
      "source": [
        "### Grading\n",
        "We will create a grader instance below and use it to collect your answers. Note that these outputs will be stored locally inside grader and will be uploaded to the platform only after running submitting function in the last part of this assignment. If you want to make a partial submission, you can run that cell anytime you want."
      ]
    },
    {
      "cell_type": "code",
      "metadata": {
        "id": "vFyyCDx_4cny"
      },
      "source": [
        "grader = MCMCGrader()"
      ],
      "execution_count": null,
      "outputs": []
    },
    {
      "cell_type": "markdown",
      "metadata": {
        "id": "4FhKYded4cny"
      },
      "source": [
        "## Task 1. Alice and Bob\n",
        "\n",
        "Alice and Bob are trading on the market. Both of them are selling the Thing and want to get as high profit as possible.\n",
        "Every hour they check out with each other's prices and adjust their prices to compete on the market. Although they have different strategies for price setting.\n",
        "\n",
        "**Alice**: takes Bob's price during the **previous** hour, multiply by 0.6, add \\\\$90, add Gaussian noise from $N(0, 20^2)$.\n",
        "\n",
        "**Bob**: takes Alice's price during the **current** hour, multiply by 1.2 and subtract \\\\$20, add Gaussian noise from $N(0, 10^2)$.\n",
        "\n",
        "The problem is to find the joint distribution of Alice and Bob's prices after many hours of such an experiment."
      ]
    },
    {
      "cell_type": "markdown",
      "metadata": {
        "id": "NfRPcjvI4cnz"
      },
      "source": [
        "### Task 1.1\n",
        "\n",
        "Implement the `run_simulation` function according to the description above. "
      ]
    },
    {
      "cell_type": "code",
      "metadata": {
        "id": "5eGX1MVf4cnz"
      },
      "source": [
        "def run_simulation(alice_start_price=300.0, bob_start_price=300.0, seed=42, num_hours=10000, burnin=1000):\n",
        "    \"\"\"Simulates an evolution of prices set by Bob and Alice.\n",
        "    \n",
        "    The function should simulate Alice and Bob behavior for `burnin' hours, then ignore the obtained\n",
        "    simulation results, and then simulate it for `num_hours' more.\n",
        "    The initial burnin (also sometimes called warmup) is done to make sure that the distribution stabilized.\n",
        "    \n",
        "    Please don't change the signature of the function.\n",
        "    \n",
        "    Returns:\n",
        "        two lists, with Alice and with Bob prices. Both lists should be of length num_hours.\n",
        "    \"\"\"\n",
        "    np.random.seed(seed)\n",
        "\n",
        "    alice_prices = [alice_start_price]\n",
        "    bob_prices = [bob_start_price]\n",
        "    \n",
        "    i=1\n",
        "    while i<=num_hours:\n",
        "        alice_norml_mean = 0.6*bob_prices[i-1]+90\n",
        "        alice_norml_var = 20\n",
        "        alice_prices.append(rnd.normal(alice_norml_mean,alice_norml_var))\n",
        "        bob_norml_mean = alice_prices[i]*1.2-20\n",
        "        var = 10\n",
        "        bob_prices.append(rnd.normal(bob_norml_mean,var))\n",
        "        i=i+1\n",
        "    return alice_prices[burnin:], bob_prices[burnin:]"
      ],
      "execution_count": null,
      "outputs": []
    },
    {
      "cell_type": "code",
      "metadata": {
        "id": "ZXZAXT9q4cn0",
        "colab": {
          "base_uri": "https://localhost:8080/"
        },
        "outputId": "4e794615-3b31-44ee-83d5-4b87ca1e2045"
      },
      "source": [
        "alice_prices, bob_prices = run_simulation(alice_start_price=300, bob_start_price=300, seed=42, num_hours=3, burnin=1)\n",
        "if len(alice_prices) != 3:\n",
        "    raise RuntimeError('Make sure that the function returns `num_hours` data points.')\n",
        "grader.submit_simulation_trajectory(alice_prices, bob_prices)"
      ],
      "execution_count": null,
      "outputs": [
        {
          "output_type": "stream",
          "text": [
            "Current answer for task 1.1 (Alice trajectory) is: 279.93428306022463  291.67686875834846\n",
            "Current answer for task 1.1 (Bob trajectory) is: 314.5384966605577  345.2425410740984\n"
          ],
          "name": "stdout"
        }
      ]
    },
    {
      "cell_type": "markdown",
      "metadata": {
        "id": "D7uvQtbB4cn0"
      },
      "source": [
        "### Task 1.2\n",
        "What is the average price for Alice and Bob after the burn-in period? Whose prices are higher?"
      ]
    },
    {
      "cell_type": "code",
      "metadata": {
        "id": "IBaGPJD24cn0",
        "colab": {
          "base_uri": "https://localhost:8080/"
        },
        "outputId": "f1c971a7-1d17-4c8b-cb46-7a1e8f605efc"
      },
      "source": [
        "#### YOUR CODE HERE ####\n",
        "average_alice_price = mean(alice_prices)\n",
        "average_bob_price =  mean(bob_prices)\n",
        "### END OF YOUR CODE ###\n",
        "grader.submit_simulation_mean(average_alice_price, average_bob_price)"
      ],
      "execution_count": null,
      "outputs": [
        {
          "output_type": "stream",
          "text": [
            "Current answer for task 1.2 (Alice mean) is: 288.0245363228551\n",
            "Current answer for task 1.2 (Bob mean) is: 329.464872248385\n"
          ],
          "name": "stdout"
        }
      ]
    },
    {
      "cell_type": "markdown",
      "metadata": {
        "id": "zpRTpzFg4cn1"
      },
      "source": [
        "### Task 1.3\n",
        "\n",
        "Let's look at the 2-d histogram of prices, computed using kernel density estimation."
      ]
    },
    {
      "cell_type": "code",
      "metadata": {
        "id": "12q6t4Lj4cn1",
        "colab": {
          "base_uri": "https://localhost:8080/",
          "height": 545
        },
        "outputId": "66f7d6b9-975c-4648-e379-fecebf5fd504"
      },
      "source": [
        "data = np.array(run_simulation())\n",
        "sns.jointplot(data[0, :], data[1, :], stat_func=None, kind='kde')"
      ],
      "execution_count": null,
      "outputs": [
        {
          "output_type": "stream",
          "text": [
            "/usr/local/lib/python3.7/dist-packages/seaborn/_decorators.py:43: FutureWarning: Pass the following variables as keyword args: x, y. From version 0.12, the only valid positional argument will be `data`, and passing other arguments without an explicit keyword will result in an error or misinterpretation.\n",
            "  FutureWarning\n",
            "/usr/local/lib/python3.7/dist-packages/seaborn/distributions.py:1185: UserWarning: The following kwargs were not used by contour: 'stat_func'\n",
            "  **contour_kws,\n"
          ],
          "name": "stderr"
        },
        {
          "output_type": "execute_result",
          "data": {
            "text/plain": [
              "<seaborn.axisgrid.JointGrid at 0x7f641edb65d0>"
            ]
          },
          "metadata": {
            "tags": []
          },
          "execution_count": 9
        },
        {
          "output_type": "display_data",
          "data": {
            "image/png": "[encoded data removed]",
            "text/plain": [
              "<Figure size 432x432 with 3 Axes>"
            ]
          },
          "metadata": {
            "tags": [],
            "needs_background": "light"
          }
        }
      ]
    },
    {
      "cell_type": "markdown",
      "metadata": {
        "id": "XJYshgpd4cn2"
      },
      "source": [
        "Clearly, the prices of Bob and Alce are highly correlated. What is the Pearson correlation coefficient of Alice and Bob prices?"
      ]
    },
    {
      "cell_type": "code",
      "metadata": {
        "id": "RjDgfAbQ4cn3",
        "colab": {
          "base_uri": "https://localhost:8080/"
        },
        "outputId": "838958aa-e9d7-4f47-e629-3981c7f4a0a0"
      },
      "source": [
        "cov = np.cov(data[0,:],data[1,:])\n",
        "cv = cov[0][1]\n",
        "stdx = np.std(data[0,:])\n",
        "stdy = np.std(data[1,:])\n",
        "rho = cv/(stdx*stdy)\n",
        "print(rho)"
      ],
      "execution_count": null,
      "outputs": [
        {
          "output_type": "stream",
          "text": [
            "0.9637410729609007\n"
          ],
          "name": "stdout"
        }
      ]
    },
    {
      "cell_type": "markdown",
      "metadata": {
        "id": "oyOt43BK4cn3"
      },
      "source": [
        "### Task 1.4"
      ]
    },
    {
      "cell_type": "markdown",
      "metadata": {
        "id": "xMZq1BXL4cn3"
      },
      "source": [
        "We observe an interesting effect here: seems like the bivariate distribution of Alice and Bob prices converges to a correlated bivariate Gaussian distribution.\n",
        "\n",
        "Let's check, whether the results change if we use different random seed and starting points."
      ]
    },
    {
      "cell_type": "code",
      "metadata": {
        "id": "XUXWZeqy4cn3",
        "colab": {
          "base_uri": "https://localhost:8080/"
        },
        "outputId": "6ceff767-e7fc-47fb-c512-07e486b7f5b8"
      },
      "source": [
        "# Pick different starting prices, e.g 10, 1000, 10000 for Bob and Alice. \n",
        "# Does the joint distribution of the two prices depend on these parameters?\n",
        "POSSIBLE_ANSWERS = {\n",
        "    0: 'Depends on random seed and starting prices', \n",
        "    1: 'Depends only on random seed',\n",
        "    2: 'Depends only on starting prices',\n",
        "    3: 'Does not depend on random seed and starting prices'\n",
        "}\n",
        "\n",
        "idx = 2\n",
        "answer = POSSIBLE_ANSWERS[idx]\n",
        "grader.submit_simulation_depends(answer)"
      ],
      "execution_count": null,
      "outputs": [
        {
          "output_type": "stream",
          "text": [
            "Current answer for task 1.4 (depends on the random data or not) is: Depends only on starting prices\n"
          ],
          "name": "stdout"
        }
      ]
    },
    {
      "cell_type": "markdown",
      "metadata": {
        "collapsed": true,
        "id": "i0MpCo2z4cn4"
      },
      "source": [
        "## Task 2. Logistic regression with PyMC3\n",
        "\n",
        "Logistic regression is a powerful model that allows you to analyze how a set of features affects some binary target label. Posterior distribution over the weights gives us an estimation of the influence of each particular feature on the probability of the target being equal to one. But most importantly, posterior distribution gives us the interval estimates for each weight of the model. This is very important for data analysis when you want to not only provide a good model but also estimate the uncertainty of your conclusions.\n",
        "\n",
        "In this task, we will learn how to use PyMC3 library to perform approximate Bayesian inference for logistic regression.\n",
        "\n",
        "This part of the assignment is based on the logistic regression tutorial by Peadar Coyle and J. Benjamin Cook."
      ]
    },
    {
      "cell_type": "markdown",
      "metadata": {
        "id": "YJEaB7sK4cn4"
      },
      "source": [
        "### Logistic regression.\n",
        "\n",
        "The problem here is to model how the probability that a person has salary $\\geq$ \\\\$50K is affected by his/her age, education, sex and other features.\n",
        "\n",
        "Let $y_i = 1$ if i-th person's salary is $\\geq$ \\\\$50K and $y_i = 0$ otherwise. Let $x_{ij}$ be $j$-th feature of $i$-th person.\n",
        "\n",
        "Logistic regression models this probabilty in the following way:\n",
        "\n",
        "$$p(y_i = 1 \\mid \\beta) = \\sigma (\\beta_1 x_{i1} + \\beta_2 x_{i2} + \\dots + \\beta_k x_{ik} ), $$\n",
        "\n",
        "where $\\sigma(t) = \\frac1{1 + e^{-t}}$"
      ]
    },
    {
      "cell_type": "markdown",
      "metadata": {
        "id": "iXZlLruZ4cn5"
      },
      "source": [
        "#### Odds ratio.\n",
        "Let's try to answer the following question: does the gender of a person affects his or her salary? To do it we will use the concept of *odds*.\n",
        "\n",
        "If we have a binary random variable $y$ (which may indicate whether a person makes \\\\$50K) and if the probabilty of the positive outcome $p(y = 1)$ is for example 0.8, we will say that the *odds* are 4 to 1 (or just 4 for short), because succeding is 4 time more likely than failing $\\frac{p(y = 1)}{p(y = 0)} = \\frac{0.8}{0.2} = 4$.\n",
        "\n",
        "Now, let's return to the effect of gender on the salary. Let's compute the **ratio** between the odds of a male having salary $\\geq $ \\\\$50K and the odds of a female (with the same level of education, experience and everything else) having salary $\\geq$ \\\\$50K. The first feature of each person in the dataset is gender. Specifically, $x_{i1} = 0$ if the person is female and $x_{i1} = 1$ otherwise. Consider two people $i$ and $j$ having all but one features the same with the only difference in $x_{i1} \\neq x_{j1}$.\n",
        "\n",
        "If the logistic regression model above estimates the probabilities exactly, the odds for a male will be (check it!):\n",
        "$$\n",
        "\\frac{p(y_i = 1 \\mid x_{i1}=1, x_{i2}, \\ldots, x_{ik})}{p(y_i = 0 \\mid x_{i1}=1, x_{i2}, \\ldots, x_{ik})} = \\frac{\\sigma(\\beta_1 + \\beta_2 x_{i2} + \\ldots)}{1 - \\sigma(\\beta_1 + \\beta_2 x_{i2} + \\ldots)} = \\exp(\\beta_1 + \\beta_2 x_{i2} + \\ldots)\n",
        "$$\n",
        "\n",
        "Now the ratio of the male and female odds will be:\n",
        "$$\n",
        "\\frac{\\exp(\\beta_1 \\cdot 1 + \\beta_2 x_{i2} + \\ldots)}{\\exp(\\beta_1 \\cdot 0 + \\beta_2 x_{i2} + \\ldots)} = \\exp(\\beta_1)\n",
        "$$\n",
        "\n",
        "So given the correct logistic regression model, we can estimate odds ratio for some feature (gender in this example) by just looking at the corresponding coefficient. But of course, even if all the logistic regression assumptions are met we cannot estimate the coefficient exactly from real-world data, it's just too noisy. So it would be really nice to build an interval estimate, which would tell us something along the lines \"with probability 0.95 the odds ratio is greater than 0.8 and less than 1.2, so we cannot conclude that there is any gender discrimination in the salaries\" (or vice versa, that \"with probability 0.95 the odds ratio is greater than 1.5 and less than 1.9 and the discrimination takes place because a male has at least 1.5 higher probability to get >$50k than a female with the same level of education, age, etc.\"). In Bayesian statistics, this interval estimate is called *credible interval*.\n",
        "\n",
        "Unfortunately, it's impossible to compute this credible interval analytically. So let's use MCMC for that!\n",
        "\n",
        "#### Credible interval\n",
        "A credible interval for the value of $\\exp(\\beta_1)$ is an interval $[a, b]$ such that $p(a \\leq \\exp(\\beta_1) \\leq b \\mid X_{\\text{train}}, y_{\\text{train}})$ is $0.95$ (or some other predefined value). To compute the interval, we need access to the posterior distribution $p(\\exp(\\beta_1) \\mid X_{\\text{train}}, y_{\\text{train}})$.\n",
        "\n",
        "Lets for simplicity focus on the posterior on the parameters $p(\\beta_1 \\mid X_{\\text{train}}, y_{\\text{train}})$ since if we compute it, we can always find $[a, b]$ such that $p(\\log a \\leq \\beta_1 \\leq \\log b \\mid X_{\\text{train}}, y_{\\text{train}}) = p(a \\leq \\exp(\\beta_1) \\leq b \\mid X_{\\text{train}}, y_{\\text{train}}) = 0.95$\n"
      ]
    },
    {
      "cell_type": "markdown",
      "metadata": {
        "id": "rCNjR7p2GnBk"
      },
      "source": [
        "# New Section"
      ]
    },
    {
      "cell_type": "markdown",
      "metadata": {
        "id": "KweyuQmi4cn6"
      },
      "source": [
        "### Task 2.1 MAP inference"
      ]
    },
    {
      "cell_type": "markdown",
      "metadata": {
        "id": "Qp4JKeLJ4cn7"
      },
      "source": [
        "Let's read the dataset. This is a post-processed version of the [UCI Adult dataset](http://archive.ics.uci.edu/ml/datasets/Adult)."
      ]
    },
    {
      "cell_type": "code",
      "metadata": {
        "id": "9H4zEFMW4cn8",
        "colab": {
          "base_uri": "https://localhost:8080/",
          "height": 404
        },
        "outputId": "cf649139-7121-4fde-9b56-6f1a5f562545"
      },
      "source": [
        "import pandas as pd\n",
        "data = pd.read_csv(\"adult_us_postprocessed.csv\")\n",
        "data.head()"
      ],
      "execution_count": null,
      "outputs": [
        {
          "output_type": "error",
          "ename": "FileNotFoundError",
          "evalue": "ignored",
          "traceback": [
            "\u001b[0;31m---------------------------------------------------------------------------\u001b[0m",
            "\u001b[0;31mFileNotFoundError\u001b[0m                         Traceback (most recent call last)",
            "\u001b[0;32m<ipython-input-2-932022ecf060>\u001b[0m in \u001b[0;36m<module>\u001b[0;34m()\u001b[0m\n\u001b[1;32m      1\u001b[0m \u001b[0;32mimport\u001b[0m \u001b[0mpandas\u001b[0m \u001b[0;32mas\u001b[0m \u001b[0mpd\u001b[0m\u001b[0;34m\u001b[0m\u001b[0;34m\u001b[0m\u001b[0m\n\u001b[0;32m----> 2\u001b[0;31m \u001b[0mdata\u001b[0m \u001b[0;34m=\u001b[0m \u001b[0mpd\u001b[0m\u001b[0;34m.\u001b[0m\u001b[0mread_csv\u001b[0m\u001b[0;34m(\u001b[0m\u001b[0;34m\"adult_us_postprocessed.csv\"\u001b[0m\u001b[0;34m)\u001b[0m\u001b[0;34m\u001b[0m\u001b[0;34m\u001b[0m\u001b[0m\n\u001b[0m\u001b[1;32m      3\u001b[0m \u001b[0mdata\u001b[0m\u001b[0;34m.\u001b[0m\u001b[0mhead\u001b[0m\u001b[0;34m(\u001b[0m\u001b[0;34m)\u001b[0m\u001b[0;34m\u001b[0m\u001b[0;34m\u001b[0m\u001b[0m\n",
            "\u001b[0;32m/usr/local/lib/python3.7/dist-packages/pandas/io/parsers.py\u001b[0m in \u001b[0;36mread_csv\u001b[0;34m(filepath_or_buffer, sep, delimiter, header, names, index_col, usecols, squeeze, prefix, mangle_dupe_cols, dtype, engine, converters, true_values, false_values, skipinitialspace, skiprows, skipfooter, nrows, na_values, keep_default_na, na_filter, verbose, skip_blank_lines, parse_dates, infer_datetime_format, keep_date_col, date_parser, dayfirst, cache_dates, iterator, chunksize, compression, thousands, decimal, lineterminator, quotechar, quoting, doublequote, escapechar, comment, encoding, dialect, error_bad_lines, warn_bad_lines, delim_whitespace, low_memory, memory_map, float_precision)\u001b[0m\n\u001b[1;32m    686\u001b[0m     )\n\u001b[1;32m    687\u001b[0m \u001b[0;34m\u001b[0m\u001b[0m\n\u001b[0;32m--> 688\u001b[0;31m     \u001b[0;32mreturn\u001b[0m \u001b[0m_read\u001b[0m\u001b[0;34m(\u001b[0m\u001b[0mfilepath_or_buffer\u001b[0m\u001b[0;34m,\u001b[0m \u001b[0mkwds\u001b[0m\u001b[0;34m)\u001b[0m\u001b[0;34m\u001b[0m\u001b[0;34m\u001b[0m\u001b[0m\n\u001b[0m\u001b[1;32m    689\u001b[0m \u001b[0;34m\u001b[0m\u001b[0m\n\u001b[1;32m    690\u001b[0m \u001b[0;34m\u001b[0m\u001b[0m\n",
            "\u001b[0;32m/usr/local/lib/python3.7/dist-packages/pandas/io/parsers.py\u001b[0m in \u001b[0;36m_read\u001b[0;34m(filepath_or_buffer, kwds)\u001b[0m\n\u001b[1;32m    452\u001b[0m \u001b[0;34m\u001b[0m\u001b[0m\n\u001b[1;32m    453\u001b[0m     \u001b[0;31m# Create the parser.\u001b[0m\u001b[0;34m\u001b[0m\u001b[0;34m\u001b[0m\u001b[0;34m\u001b[0m\u001b[0m\n\u001b[0;32m--> 454\u001b[0;31m     \u001b[0mparser\u001b[0m \u001b[0;34m=\u001b[0m \u001b[0mTextFileReader\u001b[0m\u001b[0;34m(\u001b[0m\u001b[0mfp_or_buf\u001b[0m\u001b[0;34m,\u001b[0m \u001b[0;34m**\u001b[0m\u001b[0mkwds\u001b[0m\u001b[0;34m)\u001b[0m\u001b[0;34m\u001b[0m\u001b[0;34m\u001b[0m\u001b[0m\n\u001b[0m\u001b[1;32m    455\u001b[0m \u001b[0;34m\u001b[0m\u001b[0m\n\u001b[1;32m    456\u001b[0m     \u001b[0;32mif\u001b[0m \u001b[0mchunksize\u001b[0m \u001b[0;32mor\u001b[0m \u001b[0miterator\u001b[0m\u001b[0;34m:\u001b[0m\u001b[0;34m\u001b[0m\u001b[0;34m\u001b[0m\u001b[0m\n",
            "\u001b[0;32m/usr/local/lib/python3.7/dist-packages/pandas/io/parsers.py\u001b[0m in \u001b[0;36m__init__\u001b[0;34m(self, f, engine, **kwds)\u001b[0m\n\u001b[1;32m    946\u001b[0m             \u001b[0mself\u001b[0m\u001b[0;34m.\u001b[0m\u001b[0moptions\u001b[0m\u001b[0;34m[\u001b[0m\u001b[0;34m\"has_index_names\"\u001b[0m\u001b[0;34m]\u001b[0m \u001b[0;34m=\u001b[0m \u001b[0mkwds\u001b[0m\u001b[0;34m[\u001b[0m\u001b[0;34m\"has_index_names\"\u001b[0m\u001b[0;34m]\u001b[0m\u001b[0;34m\u001b[0m\u001b[0;34m\u001b[0m\u001b[0m\n\u001b[1;32m    947\u001b[0m \u001b[0;34m\u001b[0m\u001b[0m\n\u001b[0;32m--> 948\u001b[0;31m         \u001b[0mself\u001b[0m\u001b[0;34m.\u001b[0m\u001b[0m_make_engine\u001b[0m\u001b[0;34m(\u001b[0m\u001b[0mself\u001b[0m\u001b[0;34m.\u001b[0m\u001b[0mengine\u001b[0m\u001b[0;34m)\u001b[0m\u001b[0;34m\u001b[0m\u001b[0;34m\u001b[0m\u001b[0m\n\u001b[0m\u001b[1;32m    949\u001b[0m \u001b[0;34m\u001b[0m\u001b[0m\n\u001b[1;32m    950\u001b[0m     \u001b[0;32mdef\u001b[0m \u001b[0mclose\u001b[0m\u001b[0;34m(\u001b[0m\u001b[0mself\u001b[0m\u001b[0;34m)\u001b[0m\u001b[0;34m:\u001b[0m\u001b[0;34m\u001b[0m\u001b[0;34m\u001b[0m\u001b[0m\n",
            "\u001b[0;32m/usr/local/lib/python3.7/dist-packages/pandas/io/parsers.py\u001b[0m in \u001b[0;36m_make_engine\u001b[0;34m(self, engine)\u001b[0m\n\u001b[1;32m   1178\u001b[0m     \u001b[0;32mdef\u001b[0m \u001b[0m_make_engine\u001b[0m\u001b[0;34m(\u001b[0m\u001b[0mself\u001b[0m\u001b[0;34m,\u001b[0m \u001b[0mengine\u001b[0m\u001b[0;34m=\u001b[0m\u001b[0;34m\"c\"\u001b[0m\u001b[0;34m)\u001b[0m\u001b[0;34m:\u001b[0m\u001b[0;34m\u001b[0m\u001b[0;34m\u001b[0m\u001b[0m\n\u001b[1;32m   1179\u001b[0m         \u001b[0;32mif\u001b[0m \u001b[0mengine\u001b[0m \u001b[0;34m==\u001b[0m \u001b[0;34m\"c\"\u001b[0m\u001b[0;34m:\u001b[0m\u001b[0;34m\u001b[0m\u001b[0;34m\u001b[0m\u001b[0m\n\u001b[0;32m-> 1180\u001b[0;31m             \u001b[0mself\u001b[0m\u001b[0;34m.\u001b[0m\u001b[0m_engine\u001b[0m \u001b[0;34m=\u001b[0m \u001b[0mCParserWrapper\u001b[0m\u001b[0;34m(\u001b[0m\u001b[0mself\u001b[0m\u001b[0;34m.\u001b[0m\u001b[0mf\u001b[0m\u001b[0;34m,\u001b[0m \u001b[0;34m**\u001b[0m\u001b[0mself\u001b[0m\u001b[0;34m.\u001b[0m\u001b[0moptions\u001b[0m\u001b[0;34m)\u001b[0m\u001b[0;34m\u001b[0m\u001b[0;34m\u001b[0m\u001b[0m\n\u001b[0m\u001b[1;32m   1181\u001b[0m         \u001b[0;32melse\u001b[0m\u001b[0;34m:\u001b[0m\u001b[0;34m\u001b[0m\u001b[0;34m\u001b[0m\u001b[0m\n\u001b[1;32m   1182\u001b[0m             \u001b[0;32mif\u001b[0m \u001b[0mengine\u001b[0m \u001b[0;34m==\u001b[0m \u001b[0;34m\"python\"\u001b[0m\u001b[0;34m:\u001b[0m\u001b[0;34m\u001b[0m\u001b[0;34m\u001b[0m\u001b[0m\n",
            "\u001b[0;32m/usr/local/lib/python3.7/dist-packages/pandas/io/parsers.py\u001b[0m in \u001b[0;36m__init__\u001b[0;34m(self, src, **kwds)\u001b[0m\n\u001b[1;32m   2008\u001b[0m         \u001b[0mkwds\u001b[0m\u001b[0;34m[\u001b[0m\u001b[0;34m\"usecols\"\u001b[0m\u001b[0;34m]\u001b[0m \u001b[0;34m=\u001b[0m \u001b[0mself\u001b[0m\u001b[0;34m.\u001b[0m\u001b[0musecols\u001b[0m\u001b[0;34m\u001b[0m\u001b[0;34m\u001b[0m\u001b[0m\n\u001b[1;32m   2009\u001b[0m \u001b[0;34m\u001b[0m\u001b[0m\n\u001b[0;32m-> 2010\u001b[0;31m         \u001b[0mself\u001b[0m\u001b[0;34m.\u001b[0m\u001b[0m_reader\u001b[0m \u001b[0;34m=\u001b[0m \u001b[0mparsers\u001b[0m\u001b[0;34m.\u001b[0m\u001b[0mTextReader\u001b[0m\u001b[0;34m(\u001b[0m\u001b[0msrc\u001b[0m\u001b[0;34m,\u001b[0m \u001b[0;34m**\u001b[0m\u001b[0mkwds\u001b[0m\u001b[0;34m)\u001b[0m\u001b[0;34m\u001b[0m\u001b[0;34m\u001b[0m\u001b[0m\n\u001b[0m\u001b[1;32m   2011\u001b[0m         \u001b[0mself\u001b[0m\u001b[0;34m.\u001b[0m\u001b[0munnamed_cols\u001b[0m \u001b[0;34m=\u001b[0m \u001b[0mself\u001b[0m\u001b[0;34m.\u001b[0m\u001b[0m_reader\u001b[0m\u001b[0;34m.\u001b[0m\u001b[0munnamed_cols\u001b[0m\u001b[0;34m\u001b[0m\u001b[0;34m\u001b[0m\u001b[0m\n\u001b[1;32m   2012\u001b[0m \u001b[0;34m\u001b[0m\u001b[0m\n",
            "\u001b[0;32mpandas/_libs/parsers.pyx\u001b[0m in \u001b[0;36mpandas._libs.parsers.TextReader.__cinit__\u001b[0;34m()\u001b[0m\n",
            "\u001b[0;32mpandas/_libs/parsers.pyx\u001b[0m in \u001b[0;36mpandas._libs.parsers.TextReader._setup_parser_source\u001b[0;34m()\u001b[0m\n",
            "\u001b[0;31mFileNotFoundError\u001b[0m: [Errno 2] No such file or directory: 'adult_us_postprocessed.csv'"
          ]
        }
      ]
    },
    {
      "cell_type": "markdown",
      "metadata": {
        "id": "QGTngzOj4cn8"
      },
      "source": [
        "Each row of the dataset is a person with his (her) features. The last column is the target variable $y$. One indicates that this person's annual salary is more than $50K.\n",
        "\n",
        "First of all let's set up a Bayesian logistic regression model (i.e. define priors on the parameters $\\alpha$ and $\\beta$ of the model) that predicts the value of \"income_more_50K\" based on person's age and education:\n",
        "\n",
        "$$\n",
        "p(y = 1 \\mid \\alpha, \\beta_1, \\beta_2) = \\sigma(\\alpha + \\beta_1 x_1 + \\beta_2 x_2) \\\\ \n",
        "\\alpha \\sim N(0, 100^2) \\\\\n",
        "\\beta_1 \\sim N(0, 100^2) \\\\\n",
        "\\beta_2 \\sim N(0, 100^2), \\\\\n",
        "$$\n",
        "\n",
        "where $x_1$ is a person's age, $x_2$ is his/her level of education, y indicates his/her level of income, $\\alpha$, $\\beta_1$ and $\\beta_2$ are paramters of the model."
      ]
    },
    {
      "cell_type": "code",
      "metadata": {
        "id": "Nb0jpiru4cn9"
      },
      "source": [
        "with pm.Model() as manual_logistic_model:\n",
        "    # Declare pymc random variables for logistic regression coefficients with uninformative \n",
        "    # prior distributions N(0, 100^2) on each weight using pm.Normal. \n",
        "    # Don't forget to give each variable a unique name.\n",
        "    \n",
        "    #### YOUR CODE HERE ####\n",
        "    \n",
        "    ### END OF YOUR CODE ###\n",
        "    \n",
        "    # Thansform these random variables into vector of probabilities p(y_i=1) using logistic regression model specified \n",
        "    # above. PyMC random variables are theano shared variables and support simple mathematical operations.\n",
        "    # For example:\n",
        "    # z = pm.Normal('x', 0, 1) * np.array([1, 2, 3]) + pm.Normal('y', 0, 1) * np.array([4, 5, 6])`\n",
        "    # is a correct PyMC expression.\n",
        "    # Use pm.invlogit for the sigmoid function.\n",
        "    \n",
        "    #### YOUR CODE HERE ####\n",
        "    \n",
        "    ### END OF YOUR CODE ###\n",
        "    \n",
        "    # Declare PyMC Bernoulli random vector with probability of success equal to the corresponding value\n",
        "    # given by the sigmoid function.\n",
        "    # Supply target vector using \"observed\" argument in the constructor.\n",
        "\n",
        "    #### YOUR CODE HERE ####\n",
        "    \n",
        "    ### END OF YOUR CODE ###\n",
        "    \n",
        "    # Use pm.find_MAP() to find the maximum a-posteriori estimate for the vector of logistic regression weights.\n",
        "    map_estimate = pm.find_MAP()\n",
        "    print(map_estimate)\n",
        "\n"
      ],
      "execution_count": null,
      "outputs": []
    },
    {
      "cell_type": "markdown",
      "metadata": {
        "id": "ZukjbsLn4cn-"
      },
      "source": [
        "Sumbit MAP estimations of corresponding coefficients:"
      ]
    },
    {
      "cell_type": "code",
      "metadata": {
        "id": "Or4-hU-r4cn-"
      },
      "source": [
        "with pm.Model() as logistic_model:\n",
        "    # There's a simpler interface for generalized linear models in pymc3. \n",
        "    # Try to train the same model using pm.glm.GLM.from_formula.\n",
        "    # Do not forget to specify that the target variable is binary (and hence follows Binomial distribution).\n",
        "    \n",
        "    #### YOUR CODE HERE ####\n",
        "    \n",
        "    ### END OF YOUR CODE ###\n",
        "    map_estimate = pm.find_MAP()\n",
        "    print(map_estimate)"
      ],
      "execution_count": null,
      "outputs": []
    },
    {
      "cell_type": "code",
      "metadata": {
        "scrolled": true,
        "id": "xJQajqNJ4cn-"
      },
      "source": [
        "beta_age_coefficient = ### TYPE MAP ESTIMATE OF THE AGE COEFFICIENT HERE ###\n",
        "beta_education_coefficient = ### TYPE MAP ESTIMATE OF THE EDUCATION COEFFICIENT HERE ###\n",
        "grader.submit_pymc_map_estimates(beta_age_coefficient, beta_education_coefficient)"
      ],
      "execution_count": null,
      "outputs": []
    },
    {
      "cell_type": "markdown",
      "metadata": {
        "id": "JGG1-2Qg4cn_"
      },
      "source": [
        "### Task 2.2 MCMC"
      ]
    },
    {
      "cell_type": "markdown",
      "metadata": {
        "id": "RpBrDVfU4cn_"
      },
      "source": [
        "To find credible regions let's perform MCMC inference."
      ]
    },
    {
      "cell_type": "code",
      "metadata": {
        "id": "fTxEtxMG4cn_"
      },
      "source": [
        "# You will need the following function to visualize the sampling process.\n",
        "# You don't need to change it.\n",
        "def plot_traces(traces, burnin=200):\n",
        "    ''' \n",
        "    Convenience function:\n",
        "    Plot traces with overlaid means and values\n",
        "    '''\n",
        "    \n",
        "    ax = pm.traceplot(traces[burnin:], figsize=(12,len(traces.varnames)*1.5),\n",
        "        lines={k: v['mean'] for k, v in pm.summary(traces[burnin:]).iterrows()})\n",
        "\n",
        "    for i, mn in enumerate(pm.summary(traces[burnin:])['mean']):\n",
        "        ax[i,0].annotate('{:.2f}'.format(mn), xy=(mn,0), xycoords='data'\n",
        "                    ,xytext=(5,10), textcoords='offset points', rotation=90\n",
        "                    ,va='bottom', fontsize='large', color='#AA0022')"
      ],
      "execution_count": null,
      "outputs": []
    },
    {
      "cell_type": "markdown",
      "metadata": {
        "id": "qjaYJXmz4cn_"
      },
      "source": [
        "#### Metropolis-Hastings\n",
        "Let's use the Metropolis-Hastings algorithm for finding the samples from the posterior distribution.\n",
        "\n",
        "Once you wrote the code, explore the hyperparameters of Metropolis-Hastings such as the proposal distribution variance to speed up the convergence. You can use `plot_traces` function in the next cell to visually inspect the convergence.\n",
        "\n",
        "You may also use MAP-estimate to initialize the sampling scheme to speed things up. This will make the warmup (burn-in) period shorter since you will start from a probable point."
      ]
    },
    {
      "cell_type": "code",
      "metadata": {
        "id": "M8XEhBog4coA"
      },
      "source": [
        "with pm.Model() as logistic_model:\n",
        "    # Since it is unlikely that the dependency between the age and salary is linear, we will include age squared\n",
        "    # into features so that we can model dependency that favors certain ages.\n",
        "    # Train Bayesian logistic regression model on the following features: sex, age, age^2, educ, hours\n",
        "    # Use pm.sample to run MCMC to train this model.\n",
        "    # To specify the particular sampler method (Metropolis-Hastings) to pm.sample,\n",
        "    # use `pm.Metropolis`.\n",
        "    # Train your model for 400 samples.\n",
        "    # Save the output of pm.sample to a variable: this is the trace of the sampling procedure and will be used\n",
        "    # to estimate the statistics of the posterior distribution.\n",
        "    \n",
        "    #### YOUR CODE HERE ####\n",
        "    \n",
        "    ### END OF YOUR CODE ###"
      ],
      "execution_count": null,
      "outputs": []
    },
    {
      "cell_type": "code",
      "metadata": {
        "id": "OiG5JTA44coA"
      },
      "source": [
        "plot_traces(trace)"
      ],
      "execution_count": null,
      "outputs": []
    },
    {
      "cell_type": "markdown",
      "metadata": {
        "id": "D4vlc8IX4coA"
      },
      "source": [
        "#### NUTS sampler\n",
        "Use pm.sample without specifying a particular sampling method (pymc3 will choose it automatically).\n",
        "The sampling algorithm that will be used in this case is NUTS, which is a form of Hamiltonian Monte Carlo, in which parameters are tuned automatically. This is an advanced method that we hadn't cover in the lectures, but it usually converges faster and gives less correlated samples compared to vanilla Metropolis-Hastings."
      ]
    },
    {
      "cell_type": "code",
      "metadata": {
        "id": "ElaS5svM4coA"
      },
      "source": [
        "with pm.Model() as logistic_model:\n",
        "    # Train Bayesian logistic regression model on the following features: sex, age, age_squared, educ, hours\n",
        "    # Use pm.sample to run MCMC to train this model.\n",
        "    # Train your model for 400 samples.\n",
        "    # Training can take a while, so relax and wait :)\n",
        "    \n",
        "    #### YOUR CODE HERE ####\n",
        "    \n",
        "    ### END OF YOUR CODE ###"
      ],
      "execution_count": null,
      "outputs": []
    },
    {
      "cell_type": "code",
      "metadata": {
        "id": "620FjR5x4coB"
      },
      "source": [
        "plot_traces(trace)"
      ],
      "execution_count": null,
      "outputs": []
    },
    {
      "cell_type": "markdown",
      "metadata": {
        "id": "x9243IeR4coB"
      },
      "source": [
        "#### Estimating the odds ratio\n",
        "Now, let's build the posterior distribution on the odds ratio given the dataset (approximated by MCMC)."
      ]
    },
    {
      "cell_type": "code",
      "metadata": {
        "id": "DG3EQ6374coB"
      },
      "source": [
        "# We don't need to use a large burn-in here, since we initialize sampling\n",
        "# from a good point (from our approximation of the most probable\n",
        "# point (MAP) to be more precise).\n",
        "burnin = 100\n",
        "b = trace['sex[T. Male]'][burnin:]\n",
        "plt.hist(np.exp(b), bins=20, normed=True)\n",
        "plt.xlabel(\"Odds Ratio\")\n",
        "plt.show()"
      ],
      "execution_count": null,
      "outputs": []
    },
    {
      "cell_type": "markdown",
      "metadata": {
        "id": "NZAskJeW4coC"
      },
      "source": [
        "\n",
        "Finally, we can find a credible interval  (recall that credible intervals are Bayesian and confidence intervals are frequentist) for this quantity. This may be the best part about Bayesian statistics: we get to interpret credibility intervals the way we've always wanted to interpret them. We are 95% confident that the odds ratio lies within our interval!"
      ]
    },
    {
      "cell_type": "code",
      "metadata": {
        "id": "jMUR9vye4coC"
      },
      "source": [
        "lb, ub = np.percentile(b, 2.5), np.percentile(b, 97.5)\n",
        "print(\"P(%.3f < Odds Ratio < %.3f) = 0.95\" % (np.exp(lb), np.exp(ub)))"
      ],
      "execution_count": null,
      "outputs": []
    },
    {
      "cell_type": "code",
      "metadata": {
        "id": "97BaltGJ4coC"
      },
      "source": [
        "# Submit the obtained credible interval.\n",
        "grader.submit_pymc_odds_ratio_interval(np.exp(lb), np.exp(ub))"
      ],
      "execution_count": null,
      "outputs": []
    },
    {
      "cell_type": "markdown",
      "metadata": {
        "id": "L4suZWlM4coC"
      },
      "source": [
        "### Task 2.3 interpreting the results"
      ]
    },
    {
      "cell_type": "code",
      "metadata": {
        "id": "UZlllfWM4coD"
      },
      "source": [
        "# Does the gender affects salary in the provided dataset?\n",
        "# (Note that the data is from 1996 and maybe not representative\n",
        "# of the current situation in the world.)\n",
        "POSSIBLE_ANSWERS = {\n",
        "    0: 'No, there is certainly no discrimination',\n",
        "    1: 'We cannot say for sure',\n",
        "    2: 'Yes, we are 95% sure that a female is *less* likely to get >$50K than a male with the same age, level of education, etc.', \n",
        "    3: 'Yes, we are 95% sure that a female is *more* likely to get >$50K than a male with the same age, level of education, etc.', \n",
        "}\n",
        "\n",
        "idx = ### TYPE THE INDEX OF THE CORRECT ANSWER HERE ###\n",
        "answer = POSSIBLE_ANSWERS[idx]\n",
        "grader.submit_is_there_discrimination(answer)"
      ],
      "execution_count": null,
      "outputs": []
    },
    {
      "cell_type": "markdown",
      "metadata": {
        "id": "8CiB4K3Q4coD"
      },
      "source": [
        "# Authorization & Submission\n",
        "To submit assignment parts to Cousera platform, please, enter your e-mail and token into variables below. You can generate a token on this programming assignment's page. <b>Note:</b> The token expires 30 minutes after generation."
      ]
    },
    {
      "cell_type": "code",
      "metadata": {
        "id": "P9W4Gvpm4coD"
      },
      "source": [
        "STUDENT_EMAIL = ''\n",
        "STUDENT_TOKEN = ''\n",
        "grader.status()"
      ],
      "execution_count": null,
      "outputs": []
    },
    {
      "cell_type": "markdown",
      "metadata": {
        "id": "areSbCgT4coD"
      },
      "source": [
        "If you want to submit these answers, run cell below"
      ]
    },
    {
      "cell_type": "code",
      "metadata": {
        "id": "jO8KDVy74coE"
      },
      "source": [
        "grader.submit(STUDENT_EMAIL, STUDENT_TOKEN)"
      ],
      "execution_count": null,
      "outputs": []
    },
    {
      "cell_type": "markdown",
      "metadata": {
        "id": "yP7BtLPC4coE"
      },
      "source": [
        "# (Optional) generating videos of sampling process\n",
        "In this part you will generate videos showing the sampling process."
      ]
    },
    {
      "cell_type": "markdown",
      "metadata": {
        "id": "rwcPdihL4coE"
      },
      "source": [
        "### Setting things up\n",
        "You don't need to modify the code below, it sets up the plotting functions. The code is based on [MCMC visualization tutorial](https://twiecki.github.io/blog/2014/01/02/visualizing-mcmc/)."
      ]
    },
    {
      "cell_type": "code",
      "metadata": {
        "id": "1fMrYImy4coE"
      },
      "source": [
        "from IPython.display import HTML\n",
        "\n",
        "# Number of MCMC iteration to animate.\n",
        "samples = 400\n",
        "\n",
        "figsize(6, 6)\n",
        "fig = plt.figure()\n",
        "s_width = (0.81, 1.29)\n",
        "a_width = (0.11, 0.39)\n",
        "samples_width = (0, samples)\n",
        "ax1 = fig.add_subplot(221, xlim=s_width, ylim=samples_width)\n",
        "ax2 = fig.add_subplot(224, xlim=samples_width, ylim=a_width)\n",
        "ax3 = fig.add_subplot(223, xlim=s_width, ylim=a_width,\n",
        "                      xlabel='male coef',\n",
        "                      ylabel='educ coef')\n",
        "fig.subplots_adjust(wspace=0.0, hspace=0.0)\n",
        "line1, = ax1.plot([], [], lw=1)\n",
        "line2, = ax2.plot([], [], lw=1)\n",
        "line3, = ax3.plot([], [], 'o', lw=2, alpha=.1)\n",
        "line4, = ax3.plot([], [], lw=1, alpha=.3)\n",
        "line5, = ax3.plot([], [], 'k', lw=1)\n",
        "line6, = ax3.plot([], [], 'k', lw=1)\n",
        "ax1.set_xticklabels([])\n",
        "ax2.set_yticklabels([])\n",
        "lines = [line1, line2, line3, line4, line5, line6]\n",
        "\n",
        "def init():\n",
        "    for line in lines:\n",
        "        line.set_data([], [])\n",
        "    return lines\n",
        "\n",
        "def animate(i):\n",
        "    with logistic_model:\n",
        "        if i == 0:\n",
        "            # Burnin\n",
        "            for j in range(samples): iter_sample.__next__() \n",
        "        trace = iter_sample.__next__()\n",
        "    line1.set_data(trace['sex[T. Male]'][::-1], range(len(trace['sex[T. Male]'])))\n",
        "    line2.set_data(range(len(trace['educ'])), trace['educ'][::-1])\n",
        "    line3.set_data(trace['sex[T. Male]'], trace['educ'])\n",
        "    line4.set_data(trace['sex[T. Male]'], trace['educ'])\n",
        "    male = trace['sex[T. Male]'][-1]\n",
        "    educ = trace['educ'][-1]\n",
        "    line5.set_data([male, male], [educ, a_width[1]])\n",
        "    line6.set_data([male, s_width[1]], [educ, educ])\n",
        "    return lines"
      ],
      "execution_count": null,
      "outputs": []
    },
    {
      "cell_type": "markdown",
      "metadata": {
        "id": "puUGoXLL4coF"
      },
      "source": [
        "## Animating Metropolis-Hastings"
      ]
    },
    {
      "cell_type": "code",
      "metadata": {
        "id": "6OEo2SRL4coF"
      },
      "source": [
        "with pm.Model() as logistic_model:\n",
        "    # Again define Bayesian logistic regression model on the following features: sex, age, age_squared, educ, hours\n",
        "    \n",
        "    #### YOUR CODE HERE ####\n",
        "    \n",
        "    ### END OF YOUR CODE ###\n",
        "    step = pm.Metropolis()\n",
        "    iter_sample = pm.iter_sample(2 * samples, step, start=map_estimate)\n",
        "anim = animation.FuncAnimation(fig, animate, init_func=init,\n",
        "                               frames=samples, interval=5, blit=True)\n",
        "HTML(anim.to_html5_video())\n",
        "# Note that generating the video may take a while."
      ],
      "execution_count": null,
      "outputs": []
    },
    {
      "cell_type": "markdown",
      "metadata": {
        "id": "DGJLRDXH4coF"
      },
      "source": [
        "## Animating NUTS\n",
        "Now rerun the animation providing the NUTS sampling method as the step argument."
      ]
    },
    {
      "cell_type": "code",
      "metadata": {
        "id": "x6Yql6hE4coF"
      },
      "source": [
        ""
      ],
      "execution_count": null,
      "outputs": []
    }
  ]
}